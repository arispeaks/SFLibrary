{
 "cells": [
  {
   "cell_type": "code",
   "execution_count": 113,
   "metadata": {},
   "outputs": [],
   "source": [
    "# How long will I be on hold?\n",
    "#   - Which age group checks out the most books? Which age groups has the highest renewal rate (# ttl renewals/# ttl checkouts)\n",
    "#   - Which library branch gets the most checkouts?\n",
    "#   - Can the library branch and the average number of checkouts be used to estimate the age group of the patron?"
   ]
  },
  {
   "cell_type": "markdown",
   "metadata": {},
   "source": [
    "# SF Library Data Analysis \n",
    "\n",
    "This analysis sets out to make observations about the San Francisco Library usage and its patrons,\n",
    "in the ultimate quest to find the answer to the following question:\n",
    "Who has my book? and does this give me any hints as to whether the book I want is going to be renewed?"
   ]
  },
  {
   "cell_type": "code",
   "execution_count": 114,
   "metadata": {},
   "outputs": [],
   "source": [
    "#load libraries \n",
    "import numpy as np\n",
    "import pandas as pd\n",
    "import matplotlib.pyplot as plt\n",
    "from sklearn.linear_model import LinearRegression\n",
    "from sklearn.model_selection import train_test_split\n",
    "from sklearn.metrics import r2_score, mean_squared_error\n",
    "import seaborn as sns\n",
    "%matplotlib inline"
   ]
  },
  {
   "cell_type": "markdown",
   "metadata": {},
   "source": [
    "## Load Data  and Take a Look"
   ]
  },
  {
   "cell_type": "code",
   "execution_count": 115,
   "metadata": {
    "scrolled": true
   },
   "outputs": [
    {
     "data": {
      "text/html": [
       "<div>\n",
       "<style scoped>\n",
       "    .dataframe tbody tr th:only-of-type {\n",
       "        vertical-align: middle;\n",
       "    }\n",
       "\n",
       "    .dataframe tbody tr th {\n",
       "        vertical-align: top;\n",
       "    }\n",
       "\n",
       "    .dataframe thead th {\n",
       "        text-align: right;\n",
       "    }\n",
       "</style>\n",
       "<table border=\"1\" class=\"dataframe\">\n",
       "  <thead>\n",
       "    <tr style=\"text-align: right;\">\n",
       "      <th></th>\n",
       "      <th>Patron Type Code</th>\n",
       "      <th>Patron Type Definition</th>\n",
       "      <th>Total Checkouts</th>\n",
       "      <th>Total Renewals</th>\n",
       "      <th>Age Range</th>\n",
       "      <th>Home Library Code</th>\n",
       "      <th>Home Library Definition</th>\n",
       "      <th>Circulation Active Month</th>\n",
       "      <th>Circulation Active Year</th>\n",
       "      <th>Notice Preference Code</th>\n",
       "      <th>Notice Preference Definition</th>\n",
       "      <th>Provided Email Address</th>\n",
       "      <th>Year Patron Registered</th>\n",
       "      <th>Outside of County</th>\n",
       "      <th>Supervisor District</th>\n",
       "    </tr>\n",
       "  </thead>\n",
       "  <tbody>\n",
       "    <tr>\n",
       "      <th>0</th>\n",
       "      <td>3</td>\n",
       "      <td>SENIOR</td>\n",
       "      <td>28</td>\n",
       "      <td>13</td>\n",
       "      <td>65 to 74 years</td>\n",
       "      <td>X</td>\n",
       "      <td>Main Library</td>\n",
       "      <td>November</td>\n",
       "      <td>2012</td>\n",
       "      <td>z</td>\n",
       "      <td>email</td>\n",
       "      <td>True</td>\n",
       "      <td>2003</td>\n",
       "      <td>True</td>\n",
       "      <td>NaN</td>\n",
       "    </tr>\n",
       "    <tr>\n",
       "      <th>1</th>\n",
       "      <td>0</td>\n",
       "      <td>ADULT</td>\n",
       "      <td>21</td>\n",
       "      <td>10</td>\n",
       "      <td>55 to 59 years</td>\n",
       "      <td>X</td>\n",
       "      <td>Main Library</td>\n",
       "      <td>October</td>\n",
       "      <td>2015</td>\n",
       "      <td>z</td>\n",
       "      <td>email</td>\n",
       "      <td>True</td>\n",
       "      <td>2003</td>\n",
       "      <td>False</td>\n",
       "      <td>NaN</td>\n",
       "    </tr>\n",
       "    <tr>\n",
       "      <th>2</th>\n",
       "      <td>0</td>\n",
       "      <td>ADULT</td>\n",
       "      <td>275</td>\n",
       "      <td>559</td>\n",
       "      <td>60 to 64 years</td>\n",
       "      <td>X</td>\n",
       "      <td>Main Library</td>\n",
       "      <td>January</td>\n",
       "      <td>2015</td>\n",
       "      <td>z</td>\n",
       "      <td>email</td>\n",
       "      <td>True</td>\n",
       "      <td>2003</td>\n",
       "      <td>True</td>\n",
       "      <td>NaN</td>\n",
       "    </tr>\n",
       "    <tr>\n",
       "      <th>3</th>\n",
       "      <td>0</td>\n",
       "      <td>ADULT</td>\n",
       "      <td>73</td>\n",
       "      <td>38</td>\n",
       "      <td>45 to 54 years</td>\n",
       "      <td>M8</td>\n",
       "      <td>Mission Bay</td>\n",
       "      <td>February</td>\n",
       "      <td>2016</td>\n",
       "      <td>z</td>\n",
       "      <td>email</td>\n",
       "      <td>True</td>\n",
       "      <td>2003</td>\n",
       "      <td>False</td>\n",
       "      <td>NaN</td>\n",
       "    </tr>\n",
       "    <tr>\n",
       "      <th>4</th>\n",
       "      <td>0</td>\n",
       "      <td>ADULT</td>\n",
       "      <td>182</td>\n",
       "      <td>90</td>\n",
       "      <td>45 to 54 years</td>\n",
       "      <td>X</td>\n",
       "      <td>Main Library</td>\n",
       "      <td>July</td>\n",
       "      <td>2016</td>\n",
       "      <td>z</td>\n",
       "      <td>email</td>\n",
       "      <td>True</td>\n",
       "      <td>2003</td>\n",
       "      <td>False</td>\n",
       "      <td>NaN</td>\n",
       "    </tr>\n",
       "  </tbody>\n",
       "</table>\n",
       "</div>"
      ],
      "text/plain": [
       "   Patron Type Code Patron Type Definition  Total Checkouts  Total Renewals  \\\n",
       "0                 3                 SENIOR               28              13   \n",
       "1                 0                  ADULT               21              10   \n",
       "2                 0                  ADULT              275             559   \n",
       "3                 0                  ADULT               73              38   \n",
       "4                 0                  ADULT              182              90   \n",
       "\n",
       "        Age Range Home Library Code Home Library Definition  \\\n",
       "0  65 to 74 years                 X            Main Library   \n",
       "1  55 to 59 years                 X            Main Library   \n",
       "2  60 to 64 years                 X            Main Library   \n",
       "3  45 to 54 years                M8             Mission Bay   \n",
       "4  45 to 54 years                 X            Main Library   \n",
       "\n",
       "  Circulation Active Month Circulation Active Year Notice Preference Code  \\\n",
       "0                 November                    2012                      z   \n",
       "1                  October                    2015                      z   \n",
       "2                  January                    2015                      z   \n",
       "3                 February                    2016                      z   \n",
       "4                     July                    2016                      z   \n",
       "\n",
       "  Notice Preference Definition  Provided Email Address  \\\n",
       "0                        email                    True   \n",
       "1                        email                    True   \n",
       "2                        email                    True   \n",
       "3                        email                    True   \n",
       "4                        email                    True   \n",
       "\n",
       "   Year Patron Registered  Outside of County  Supervisor District  \n",
       "0                    2003               True                  NaN  \n",
       "1                    2003              False                  NaN  \n",
       "2                    2003               True                  NaN  \n",
       "3                    2003              False                  NaN  \n",
       "4                    2003              False                  NaN  "
      ]
     },
     "execution_count": 115,
     "metadata": {},
     "output_type": "execute_result"
    }
   ],
   "source": [
    "# import DataSF dataset\n",
    "df = pd.read_csv('Library_Usage.csv');\n",
    "df.head()"
   ]
  },
  {
   "cell_type": "code",
   "execution_count": 116,
   "metadata": {},
   "outputs": [
    {
     "data": {
      "text/plain": [
       "(423448, 15)"
      ]
     },
     "execution_count": 116,
     "metadata": {},
     "output_type": "execute_result"
    }
   ],
   "source": [
    "#423448 records to start\n",
    "df.shape"
   ]
  },
  {
   "cell_type": "code",
   "execution_count": 117,
   "metadata": {},
   "outputs": [
    {
     "data": {
      "text/plain": [
       "Patron Type Code                  int64\n",
       "Patron Type Definition           object\n",
       "Total Checkouts                   int64\n",
       "Total Renewals                    int64\n",
       "Age Range                        object\n",
       "Home Library Code                object\n",
       "Home Library Definition          object\n",
       "Circulation Active Month         object\n",
       "Circulation Active Year          object\n",
       "Notice Preference Code           object\n",
       "Notice Preference Definition     object\n",
       "Provided Email Address             bool\n",
       "Year Patron Registered            int64\n",
       "Outside of County                  bool\n",
       "Supervisor District             float64\n",
       "dtype: object"
      ]
     },
     "execution_count": 117,
     "metadata": {},
     "output_type": "execute_result"
    }
   ],
   "source": [
    "# What are the types of data we have to work with?\n",
    "df.dtypes"
   ]
  },
  {
   "cell_type": "code",
   "execution_count": 118,
   "metadata": {},
   "outputs": [
    {
     "data": {
      "text/html": [
       "<div>\n",
       "<style scoped>\n",
       "    .dataframe tbody tr th:only-of-type {\n",
       "        vertical-align: middle;\n",
       "    }\n",
       "\n",
       "    .dataframe tbody tr th {\n",
       "        vertical-align: top;\n",
       "    }\n",
       "\n",
       "    .dataframe thead th {\n",
       "        text-align: right;\n",
       "    }\n",
       "</style>\n",
       "<table border=\"1\" class=\"dataframe\">\n",
       "  <thead>\n",
       "    <tr style=\"text-align: right;\">\n",
       "      <th></th>\n",
       "      <th>Patron Type Code</th>\n",
       "      <th>Total Checkouts</th>\n",
       "      <th>Total Renewals</th>\n",
       "      <th>Year Patron Registered</th>\n",
       "      <th>Supervisor District</th>\n",
       "    </tr>\n",
       "  </thead>\n",
       "  <tbody>\n",
       "    <tr>\n",
       "      <th>count</th>\n",
       "      <td>423448.000000</td>\n",
       "      <td>423448.000000</td>\n",
       "      <td>423448.000000</td>\n",
       "      <td>423448.000000</td>\n",
       "      <td>313138.000000</td>\n",
       "    </tr>\n",
       "    <tr>\n",
       "      <th>mean</th>\n",
       "      <td>1.036765</td>\n",
       "      <td>161.982097</td>\n",
       "      <td>59.657327</td>\n",
       "      <td>2010.348917</td>\n",
       "      <td>6.288240</td>\n",
       "    </tr>\n",
       "    <tr>\n",
       "      <th>std</th>\n",
       "      <td>4.188198</td>\n",
       "      <td>453.703678</td>\n",
       "      <td>225.009917</td>\n",
       "      <td>4.357374</td>\n",
       "      <td>3.123634</td>\n",
       "    </tr>\n",
       "    <tr>\n",
       "      <th>min</th>\n",
       "      <td>0.000000</td>\n",
       "      <td>0.000000</td>\n",
       "      <td>0.000000</td>\n",
       "      <td>2003.000000</td>\n",
       "      <td>1.000000</td>\n",
       "    </tr>\n",
       "    <tr>\n",
       "      <th>25%</th>\n",
       "      <td>0.000000</td>\n",
       "      <td>2.000000</td>\n",
       "      <td>0.000000</td>\n",
       "      <td>2007.000000</td>\n",
       "      <td>4.000000</td>\n",
       "    </tr>\n",
       "    <tr>\n",
       "      <th>50%</th>\n",
       "      <td>0.000000</td>\n",
       "      <td>19.000000</td>\n",
       "      <td>2.000000</td>\n",
       "      <td>2012.000000</td>\n",
       "      <td>6.000000</td>\n",
       "    </tr>\n",
       "    <tr>\n",
       "      <th>75%</th>\n",
       "      <td>1.000000</td>\n",
       "      <td>113.000000</td>\n",
       "      <td>27.000000</td>\n",
       "      <td>2014.000000</td>\n",
       "      <td>9.000000</td>\n",
       "    </tr>\n",
       "    <tr>\n",
       "      <th>max</th>\n",
       "      <td>104.000000</td>\n",
       "      <td>35907.000000</td>\n",
       "      <td>8965.000000</td>\n",
       "      <td>2016.000000</td>\n",
       "      <td>11.000000</td>\n",
       "    </tr>\n",
       "  </tbody>\n",
       "</table>\n",
       "</div>"
      ],
      "text/plain": [
       "       Patron Type Code  Total Checkouts  Total Renewals  \\\n",
       "count     423448.000000    423448.000000   423448.000000   \n",
       "mean           1.036765       161.982097       59.657327   \n",
       "std            4.188198       453.703678      225.009917   \n",
       "min            0.000000         0.000000        0.000000   \n",
       "25%            0.000000         2.000000        0.000000   \n",
       "50%            0.000000        19.000000        2.000000   \n",
       "75%            1.000000       113.000000       27.000000   \n",
       "max          104.000000     35907.000000     8965.000000   \n",
       "\n",
       "       Year Patron Registered  Supervisor District  \n",
       "count           423448.000000        313138.000000  \n",
       "mean              2010.348917             6.288240  \n",
       "std                  4.357374             3.123634  \n",
       "min               2003.000000             1.000000  \n",
       "25%               2007.000000             4.000000  \n",
       "50%               2012.000000             6.000000  \n",
       "75%               2014.000000             9.000000  \n",
       "max               2016.000000            11.000000  "
      ]
     },
     "execution_count": 118,
     "metadata": {},
     "output_type": "execute_result"
    }
   ],
   "source": [
    "# Summary of numerical types\n",
    "df.describe()"
   ]
  },
  {
   "cell_type": "code",
   "execution_count": 119,
   "metadata": {},
   "outputs": [
    {
     "data": {
      "text/plain": [
       "Patron Type Code                     0\n",
       "Patron Type Definition               0\n",
       "Total Checkouts                      0\n",
       "Total Renewals                       0\n",
       "Age Range                          215\n",
       "Home Library Code                   40\n",
       "Home Library Definition              0\n",
       "Circulation Active Month             0\n",
       "Circulation Active Year              0\n",
       "Notice Preference Code               0\n",
       "Notice Preference Definition         0\n",
       "Provided Email Address               0\n",
       "Year Patron Registered               0\n",
       "Outside of County                    0\n",
       "Supervisor District             110310\n",
       "dtype: int64"
      ]
     },
     "execution_count": 119,
     "metadata": {},
     "output_type": "execute_result"
    }
   ],
   "source": [
    "# Is there any missing data?\n",
    "df.isnull().sum()"
   ]
  },
  {
   "cell_type": "markdown",
   "metadata": {},
   "source": [
    "## Assessment\n",
    "\n",
    "When taking a brief look at the data, I noticed the following:\n",
    "\n",
    "    1. Header names include spaces\n",
    "    2. Some columns are codified versions of another column, making the information duplicative \n",
    "    3. There are a significant amount of missing values in the Supervisor District attribute, drop?\n",
    "    4. Circulation Active Year is currently being read as an object type\n",
    "    5. There are many categorical variables, not sure if all are needed\n",
    "    6. I am interested in checkouts and renewals, if there are any 0s in checkouts, these rows should be dropped."
   ]
  },
  {
   "cell_type": "markdown",
   "metadata": {},
   "source": [
    "## Clean up"
   ]
  },
  {
   "cell_type": "code",
   "execution_count": 120,
   "metadata": {},
   "outputs": [
    {
     "data": {
      "text/html": [
       "<div>\n",
       "<style scoped>\n",
       "    .dataframe tbody tr th:only-of-type {\n",
       "        vertical-align: middle;\n",
       "    }\n",
       "\n",
       "    .dataframe tbody tr th {\n",
       "        vertical-align: top;\n",
       "    }\n",
       "\n",
       "    .dataframe thead th {\n",
       "        text-align: right;\n",
       "    }\n",
       "</style>\n",
       "<table border=\"1\" class=\"dataframe\">\n",
       "  <thead>\n",
       "    <tr style=\"text-align: right;\">\n",
       "      <th></th>\n",
       "      <th>patron_type_code</th>\n",
       "      <th>patron_type_definition</th>\n",
       "      <th>total_checkouts</th>\n",
       "      <th>total_renewals</th>\n",
       "      <th>age_range</th>\n",
       "      <th>home_library_code</th>\n",
       "      <th>home_library_definition</th>\n",
       "      <th>circulation_active_month</th>\n",
       "      <th>circulation_active_year</th>\n",
       "      <th>notice_preference_code</th>\n",
       "      <th>notice_preference_definition</th>\n",
       "      <th>provided_email_address</th>\n",
       "      <th>year_patron_registered</th>\n",
       "      <th>outside_of_county</th>\n",
       "      <th>supervisor_district</th>\n",
       "    </tr>\n",
       "  </thead>\n",
       "  <tbody>\n",
       "    <tr>\n",
       "      <th>0</th>\n",
       "      <td>3</td>\n",
       "      <td>SENIOR</td>\n",
       "      <td>28</td>\n",
       "      <td>13</td>\n",
       "      <td>65 to 74 years</td>\n",
       "      <td>X</td>\n",
       "      <td>Main Library</td>\n",
       "      <td>November</td>\n",
       "      <td>2012</td>\n",
       "      <td>z</td>\n",
       "      <td>email</td>\n",
       "      <td>True</td>\n",
       "      <td>2003</td>\n",
       "      <td>True</td>\n",
       "      <td>NaN</td>\n",
       "    </tr>\n",
       "    <tr>\n",
       "      <th>1</th>\n",
       "      <td>0</td>\n",
       "      <td>ADULT</td>\n",
       "      <td>21</td>\n",
       "      <td>10</td>\n",
       "      <td>55 to 59 years</td>\n",
       "      <td>X</td>\n",
       "      <td>Main Library</td>\n",
       "      <td>October</td>\n",
       "      <td>2015</td>\n",
       "      <td>z</td>\n",
       "      <td>email</td>\n",
       "      <td>True</td>\n",
       "      <td>2003</td>\n",
       "      <td>False</td>\n",
       "      <td>NaN</td>\n",
       "    </tr>\n",
       "    <tr>\n",
       "      <th>2</th>\n",
       "      <td>0</td>\n",
       "      <td>ADULT</td>\n",
       "      <td>275</td>\n",
       "      <td>559</td>\n",
       "      <td>60 to 64 years</td>\n",
       "      <td>X</td>\n",
       "      <td>Main Library</td>\n",
       "      <td>January</td>\n",
       "      <td>2015</td>\n",
       "      <td>z</td>\n",
       "      <td>email</td>\n",
       "      <td>True</td>\n",
       "      <td>2003</td>\n",
       "      <td>True</td>\n",
       "      <td>NaN</td>\n",
       "    </tr>\n",
       "    <tr>\n",
       "      <th>3</th>\n",
       "      <td>0</td>\n",
       "      <td>ADULT</td>\n",
       "      <td>73</td>\n",
       "      <td>38</td>\n",
       "      <td>45 to 54 years</td>\n",
       "      <td>M8</td>\n",
       "      <td>Mission Bay</td>\n",
       "      <td>February</td>\n",
       "      <td>2016</td>\n",
       "      <td>z</td>\n",
       "      <td>email</td>\n",
       "      <td>True</td>\n",
       "      <td>2003</td>\n",
       "      <td>False</td>\n",
       "      <td>NaN</td>\n",
       "    </tr>\n",
       "    <tr>\n",
       "      <th>4</th>\n",
       "      <td>0</td>\n",
       "      <td>ADULT</td>\n",
       "      <td>182</td>\n",
       "      <td>90</td>\n",
       "      <td>45 to 54 years</td>\n",
       "      <td>X</td>\n",
       "      <td>Main Library</td>\n",
       "      <td>July</td>\n",
       "      <td>2016</td>\n",
       "      <td>z</td>\n",
       "      <td>email</td>\n",
       "      <td>True</td>\n",
       "      <td>2003</td>\n",
       "      <td>False</td>\n",
       "      <td>NaN</td>\n",
       "    </tr>\n",
       "  </tbody>\n",
       "</table>\n",
       "</div>"
      ],
      "text/plain": [
       "   patron_type_code patron_type_definition  total_checkouts  total_renewals  \\\n",
       "0                 3                 SENIOR               28              13   \n",
       "1                 0                  ADULT               21              10   \n",
       "2                 0                  ADULT              275             559   \n",
       "3                 0                  ADULT               73              38   \n",
       "4                 0                  ADULT              182              90   \n",
       "\n",
       "        age_range home_library_code home_library_definition  \\\n",
       "0  65 to 74 years                 X            Main Library   \n",
       "1  55 to 59 years                 X            Main Library   \n",
       "2  60 to 64 years                 X            Main Library   \n",
       "3  45 to 54 years                M8             Mission Bay   \n",
       "4  45 to 54 years                 X            Main Library   \n",
       "\n",
       "  circulation_active_month circulation_active_year notice_preference_code  \\\n",
       "0                 November                    2012                      z   \n",
       "1                  October                    2015                      z   \n",
       "2                  January                    2015                      z   \n",
       "3                 February                    2016                      z   \n",
       "4                     July                    2016                      z   \n",
       "\n",
       "  notice_preference_definition  provided_email_address  \\\n",
       "0                        email                    True   \n",
       "1                        email                    True   \n",
       "2                        email                    True   \n",
       "3                        email                    True   \n",
       "4                        email                    True   \n",
       "\n",
       "   year_patron_registered  outside_of_county  supervisor_district  \n",
       "0                    2003               True                  NaN  \n",
       "1                    2003              False                  NaN  \n",
       "2                    2003               True                  NaN  \n",
       "3                    2003              False                  NaN  \n",
       "4                    2003              False                  NaN  "
      ]
     },
     "execution_count": 120,
     "metadata": {},
     "output_type": "execute_result"
    }
   ],
   "source": [
    "# I noticed the headers of all columns include spaces\n",
    "# I want get rid of spaces and make all lower case for easier referencing\n",
    "df.columns = df.columns.str.replace(' ', '_').str.lower()\n",
    "df.head()"
   ]
  },
  {
   "cell_type": "code",
   "execution_count": 121,
   "metadata": {},
   "outputs": [
    {
     "data": {
      "text/html": [
       "<div>\n",
       "<style scoped>\n",
       "    .dataframe tbody tr th:only-of-type {\n",
       "        vertical-align: middle;\n",
       "    }\n",
       "\n",
       "    .dataframe tbody tr th {\n",
       "        vertical-align: top;\n",
       "    }\n",
       "\n",
       "    .dataframe thead th {\n",
       "        text-align: right;\n",
       "    }\n",
       "</style>\n",
       "<table border=\"1\" class=\"dataframe\">\n",
       "  <thead>\n",
       "    <tr style=\"text-align: right;\">\n",
       "      <th></th>\n",
       "      <th>patron_type_definition</th>\n",
       "      <th>total_checkouts</th>\n",
       "      <th>total_renewals</th>\n",
       "      <th>age_range</th>\n",
       "      <th>home_library_definition</th>\n",
       "      <th>circulation_active_month</th>\n",
       "      <th>circulation_active_year</th>\n",
       "      <th>notice_preference_definition</th>\n",
       "      <th>provided_email_address</th>\n",
       "      <th>year_patron_registered</th>\n",
       "      <th>outside_of_county</th>\n",
       "      <th>supervisor_district</th>\n",
       "    </tr>\n",
       "  </thead>\n",
       "  <tbody>\n",
       "    <tr>\n",
       "      <th>0</th>\n",
       "      <td>SENIOR</td>\n",
       "      <td>28</td>\n",
       "      <td>13</td>\n",
       "      <td>65 to 74 years</td>\n",
       "      <td>Main Library</td>\n",
       "      <td>November</td>\n",
       "      <td>2012</td>\n",
       "      <td>email</td>\n",
       "      <td>True</td>\n",
       "      <td>2003</td>\n",
       "      <td>True</td>\n",
       "      <td>NaN</td>\n",
       "    </tr>\n",
       "    <tr>\n",
       "      <th>1</th>\n",
       "      <td>ADULT</td>\n",
       "      <td>21</td>\n",
       "      <td>10</td>\n",
       "      <td>55 to 59 years</td>\n",
       "      <td>Main Library</td>\n",
       "      <td>October</td>\n",
       "      <td>2015</td>\n",
       "      <td>email</td>\n",
       "      <td>True</td>\n",
       "      <td>2003</td>\n",
       "      <td>False</td>\n",
       "      <td>NaN</td>\n",
       "    </tr>\n",
       "    <tr>\n",
       "      <th>2</th>\n",
       "      <td>ADULT</td>\n",
       "      <td>275</td>\n",
       "      <td>559</td>\n",
       "      <td>60 to 64 years</td>\n",
       "      <td>Main Library</td>\n",
       "      <td>January</td>\n",
       "      <td>2015</td>\n",
       "      <td>email</td>\n",
       "      <td>True</td>\n",
       "      <td>2003</td>\n",
       "      <td>True</td>\n",
       "      <td>NaN</td>\n",
       "    </tr>\n",
       "    <tr>\n",
       "      <th>3</th>\n",
       "      <td>ADULT</td>\n",
       "      <td>73</td>\n",
       "      <td>38</td>\n",
       "      <td>45 to 54 years</td>\n",
       "      <td>Mission Bay</td>\n",
       "      <td>February</td>\n",
       "      <td>2016</td>\n",
       "      <td>email</td>\n",
       "      <td>True</td>\n",
       "      <td>2003</td>\n",
       "      <td>False</td>\n",
       "      <td>NaN</td>\n",
       "    </tr>\n",
       "    <tr>\n",
       "      <th>4</th>\n",
       "      <td>ADULT</td>\n",
       "      <td>182</td>\n",
       "      <td>90</td>\n",
       "      <td>45 to 54 years</td>\n",
       "      <td>Main Library</td>\n",
       "      <td>July</td>\n",
       "      <td>2016</td>\n",
       "      <td>email</td>\n",
       "      <td>True</td>\n",
       "      <td>2003</td>\n",
       "      <td>False</td>\n",
       "      <td>NaN</td>\n",
       "    </tr>\n",
       "  </tbody>\n",
       "</table>\n",
       "</div>"
      ],
      "text/plain": [
       "  patron_type_definition  total_checkouts  total_renewals       age_range  \\\n",
       "0                 SENIOR               28              13  65 to 74 years   \n",
       "1                  ADULT               21              10  55 to 59 years   \n",
       "2                  ADULT              275             559  60 to 64 years   \n",
       "3                  ADULT               73              38  45 to 54 years   \n",
       "4                  ADULT              182              90  45 to 54 years   \n",
       "\n",
       "  home_library_definition circulation_active_month circulation_active_year  \\\n",
       "0            Main Library                 November                    2012   \n",
       "1            Main Library                  October                    2015   \n",
       "2            Main Library                  January                    2015   \n",
       "3             Mission Bay                 February                    2016   \n",
       "4            Main Library                     July                    2016   \n",
       "\n",
       "  notice_preference_definition  provided_email_address  \\\n",
       "0                        email                    True   \n",
       "1                        email                    True   \n",
       "2                        email                    True   \n",
       "3                        email                    True   \n",
       "4                        email                    True   \n",
       "\n",
       "   year_patron_registered  outside_of_county  supervisor_district  \n",
       "0                    2003               True                  NaN  \n",
       "1                    2003              False                  NaN  \n",
       "2                    2003               True                  NaN  \n",
       "3                    2003              False                  NaN  \n",
       "4                    2003              False                  NaN  "
      ]
     },
     "execution_count": 121,
     "metadata": {},
     "output_type": "execute_result"
    }
   ],
   "source": [
    "# There is repetative information in some columns:\n",
    "# home_library_code and home_library_definition\n",
    "# patron_type_code and patron_type_definition\n",
    "# notice_preference_definition, notice_preference_definition\n",
    "# I want to make the data as readable as possible, so I am going to keep the definitions and get rid of the codes.\n",
    "\n",
    "\n",
    "df.drop(['home_library_code','notice_preference_code', 'patron_type_code'], axis =1,inplace = True)\n",
    "df.head()\n"
   ]
  },
  {
   "cell_type": "code",
   "execution_count": 122,
   "metadata": {},
   "outputs": [],
   "source": [
    "# I also noticed that the data for Supervisor District is not in the file \n",
    "# and this column has a significant amount of missing data ( ~30%)\n",
    "# so I am going to drop this column as well\n",
    "df.drop(['supervisor_district'], axis =1,inplace = True)"
   ]
  },
  {
   "cell_type": "code",
   "execution_count": 123,
   "metadata": {},
   "outputs": [
    {
     "name": "stdout",
     "output_type": "stream",
     "text": [
      "FRIENDS FOR LIFE           40\n",
      "AT USER TEEN               44\n",
      "AT USER WELCOME            45\n",
      "AT USER JUVENILE           47\n",
      "AT USER SENIOR             66\n",
      "BOOKS BY MAIL              95\n",
      "RETIRED STAFF             157\n",
      "AT USER ADULT             349\n",
      "VISITOR                   415\n",
      "STAFF                     862\n",
      "SPECIAL                   977\n",
      "DIGITAL ACCESS CARD      1744\n",
      "TEACHER CARD             1782\n",
      "WELCOME                 14931\n",
      "YOUNG ADULT             28816\n",
      "SENIOR                  41619\n",
      "JUVENILE                59208\n",
      "ADULT                  272251\n",
      "Name: patron_type_definition, dtype: int64\n",
      "75 years and over    14150\n",
      "60 to 64 years       19800\n",
      "55 to 59 years       21230\n",
      "20 to 24 years       29761\n",
      "65 to 74 years       30141\n",
      "0 to 9 years         38242\n",
      "45 to 54 years       52492\n",
      "10 to 19 years       58944\n",
      "35 to 44 years       67390\n",
      "25 to 34 years       91083\n",
      "Name: age_range, dtype: int64\n",
      "Branch Bookmobile (Marina)                 7\n",
      "Branch Bookmobile (Excelsior)             23\n",
      "Branch Bookmobile (Sunset)                27\n",
      "Branch Bookmobile (West Portal)          104\n",
      "Library on Wheels                        782\n",
      "Children's Bookmobile                    807\n",
      "Unknown                                 1498\n",
      "Ocean View                              2914\n",
      "Golden Gate Valley                      4381\n",
      "Visitacion Valley                       6833\n",
      "Anza                                    7183\n",
      "Potrero                                 7196\n",
      "Park                                    8271\n",
      "Noe Valley/Sally Brunn                  8399\n",
      "Bayview/Linda Brooks-Burton             8417\n",
      "Presidio                                8652\n",
      "Portola                                 8659\n",
      "Eureka Valley/Harvey Milk Memorial      8708\n",
      "North Beach                             9162\n",
      "Bernal Heights                          9630\n",
      "Western Addition                        9706\n",
      "Parkside                                9744\n",
      "Glen Park                               9811\n",
      "Merced                                 10502\n",
      "Marina                                 10631\n",
      "Ingleside                              10738\n",
      "Mission Bay                            11271\n",
      "West Portal                            13338\n",
      "Ortega                                 14456\n",
      "Sunset                                 15020\n",
      "Excelsior                              16706\n",
      "Chinatown                              17140\n",
      "Richmond                               22475\n",
      "Mission                                25443\n",
      "Main Library                          124814\n",
      "Name: home_library_definition, dtype: int64\n",
      "November     19430\n",
      "October      19716\n",
      "February     19936\n",
      "September    20568\n",
      "January      20623\n",
      "December     20787\n",
      "August       22081\n",
      "March        23968\n",
      "April        25172\n",
      "May          31381\n",
      "June         40316\n",
      "None         67904\n",
      "July         91566\n",
      "Name: circulation_active_month, dtype: int64\n",
      "2003         6\n",
      "2004       297\n",
      "2005       498\n",
      "2006       567\n",
      "2007       710\n",
      "2008      1244\n",
      "2009      1820\n",
      "2010      2975\n",
      "2011      3108\n",
      "2012      9571\n",
      "2013     43722\n",
      "2014     63502\n",
      "None     67904\n",
      "2015     79623\n",
      "2016    147901\n",
      "Name: circulation_active_year, dtype: int64\n",
      "none          3\n",
      "print     31336\n",
      "phone     68172\n",
      "email    323937\n",
      "Name: notice_preference_definition, dtype: int64\n"
     ]
    }
   ],
   "source": [
    "# Interesting, looks like there is a 'None' value in the Active Year which prevents me from converting to integer\n",
    "# This leads to my next observation, there are many categorical variables, should all be kept/can be kept? \n",
    "# Required =  high relevance to questions posed\n",
    "# Feasibility = % missing values and confidence in replacement method\n",
    "# First, I want to get to know more about the categoricals and what they can tell me.\n",
    "for i in df.columns:\n",
    "    if df[i].dtype == 'object':\n",
    "        print(df[i].value_counts().sort_values());"
   ]
  },
  {
   "cell_type": "code",
   "execution_count": 124,
   "metadata": {},
   "outputs": [
    {
     "name": "stdout",
     "output_type": "stream",
     "text": [
      "patron_type_definition\n",
      "0.0\n",
      "age_range\n",
      "0.0\n",
      "home_library_definition\n",
      "0.0\n",
      "circulation_active_month\n",
      "0.16035971358938997\n",
      "circulation_active_year\n",
      "0.16035971358938997\n",
      "notice_preference_definition\n",
      "0.0\n"
     ]
    }
   ],
   "source": [
    "# Just looking at the categories, I want to keep all columns, but it does look like\n",
    "# quite a few have 'None' or 'Unknown' categories, which I would considered as missing data\n",
    "# I want to know just how much missing data is present in each column.\n",
    "for i in df.columns:\n",
    "    if df[i].dtype == 'object':\n",
    "        print(i)\n",
    "        print((df[i][df[i]== 'None']).count()/df.shape[0])\n"
   ]
  },
  {
   "cell_type": "code",
   "execution_count": 125,
   "metadata": {},
   "outputs": [
    {
     "name": "stdout",
     "output_type": "stream",
     "text": [
      "patron_type_definition\n",
      "0.0\n",
      "age_range\n",
      "0.0\n",
      "home_library_definition\n",
      "0.003537624454478472\n",
      "circulation_active_month\n",
      "0.0\n",
      "circulation_active_year\n",
      "0.0\n",
      "notice_preference_definition\n",
      "0.0\n"
     ]
    }
   ],
   "source": [
    "for i in df.columns:\n",
    "    if df[i].dtype == 'object':\n",
    "        print(i)\n",
    "        print((df[i][df[i]== 'Unknown']).count()/df.shape[0])"
   ]
  },
  {
   "cell_type": "code",
   "execution_count": 126,
   "metadata": {},
   "outputs": [],
   "source": [
    "# looks like circulation active year and month have the highest percent missing at ~16%\n",
    "# other columns missing value count are fairly minimal when compared to entire dataset. \n",
    "# I do not think I have enough information to impute these values, so I will choose to omit these\n",
    "# records from my analysis\n",
    "df_comp = df[df.circulation_active_year != 'None']\n",
    "df_comp = df_comp[df_comp.home_library_definition != 'Unknown']\n",
    "df_comp = df_comp[df_comp.notice_preference_definition != 'none']"
   ]
  },
  {
   "cell_type": "code",
   "execution_count": 127,
   "metadata": {},
   "outputs": [
    {
     "name": "stdout",
     "output_type": "stream",
     "text": [
      "0\n",
      "0\n",
      "0\n",
      "0\n"
     ]
    }
   ],
   "source": [
    "print(df_comp.circulation_active_year[df_comp.circulation_active_year == 'None'].count()) #year\n",
    "print(df_comp.circulation_active_month[df_comp.circulation_active_month == 'None'].count()) #month\n",
    "print(df_comp.home_library_definition[df_comp.home_library_definition== 'Unknown'].count()) # library_def\n",
    "print(df_comp.notice_preference_definition[df_comp.notice_preference_definition == 'none'].count())# notice"
   ]
  },
  {
   "cell_type": "code",
   "execution_count": 128,
   "metadata": {},
   "outputs": [
    {
     "data": {
      "text/plain": [
       "(354203, 11)"
      ]
     },
     "execution_count": 128,
     "metadata": {},
     "output_type": "execute_result"
    }
   ],
   "source": [
    "df_comp.shape"
   ]
  },
  {
   "cell_type": "code",
   "execution_count": 129,
   "metadata": {},
   "outputs": [
    {
     "data": {
      "text/plain": [
       "patron_type_definition          0\n",
       "total_checkouts                 0\n",
       "total_renewals                  0\n",
       "age_range                       0\n",
       "home_library_definition         0\n",
       "circulation_active_month        0\n",
       "circulation_active_year         0\n",
       "notice_preference_definition    0\n",
       "provided_email_address          0\n",
       "year_patron_registered          0\n",
       "outside_of_county               0\n",
       "dtype: int64"
      ]
     },
     "execution_count": 129,
     "metadata": {},
     "output_type": "execute_result"
    }
   ],
   "source": [
    "# Now all categorical variables with missing data have been cleaned up, but what about the int variable?\n",
    "# From before I noticed missing data in the Age_Range column.\n",
    "# Again, I do not feel that I have enough information in the dataset to accurately predict the age range, so I \n",
    "# going to drop these rows before analyzing and/or modeling\n",
    "df_comp.dropna(subset = ['age_range'], axis = 0, inplace = True)\n",
    "df_comp.isnull().sum()"
   ]
  },
  {
   "cell_type": "code",
   "execution_count": 130,
   "metadata": {},
   "outputs": [
    {
     "data": {
      "text/plain": [
       "(354077, 11)"
      ]
     },
     "execution_count": 130,
     "metadata": {},
     "output_type": "execute_result"
    }
   ],
   "source": [
    "# that took me down about 130 records\n",
    "df_comp.shape"
   ]
  },
  {
   "cell_type": "code",
   "execution_count": 131,
   "metadata": {},
   "outputs": [
    {
     "data": {
      "text/plain": [
       "patron_type_definition          object\n",
       "total_checkouts                  int64\n",
       "total_renewals                   int64\n",
       "age_range                       object\n",
       "home_library_definition         object\n",
       "circulation_active_month        object\n",
       "circulation_active_year          int64\n",
       "notice_preference_definition    object\n",
       "provided_email_address            bool\n",
       "year_patron_registered           int64\n",
       "outside_of_county                 bool\n",
       "dtype: object"
      ]
     },
     "execution_count": 131,
     "metadata": {},
     "output_type": "execute_result"
    }
   ],
   "source": [
    "#Now back to the original task, converting circulation_active_year to an int type\n",
    "df_comp = df_comp.astype({\"circulation_active_year\": int});\n",
    "df_comp.dtypes"
   ]
  },
  {
   "cell_type": "code",
   "execution_count": 132,
   "metadata": {},
   "outputs": [],
   "source": [
    "# drop 0 checkout rows\n",
    "df_comp = df_comp[df_comp.total_checkouts != 0]"
   ]
  },
  {
   "cell_type": "code",
   "execution_count": 133,
   "metadata": {},
   "outputs": [
    {
     "data": {
      "text/plain": [
       "(348404, 11)"
      ]
     },
     "execution_count": 133,
     "metadata": {},
     "output_type": "execute_result"
    }
   ],
   "source": [
    "df_comp.shape"
   ]
  },
  {
   "cell_type": "markdown",
   "metadata": {},
   "source": [
    "## Analyze\n",
    "Some things I would like to know:\n",
    "\n",
    "1. Which library branch has the most home users?\n",
    "2. Which age group has the highest average yearly checkouts? (Does this correlate with the above?)\n",
    "3. If, in theory, I got to choose which copy of a book to be in the hold line for, what factors should I consider about the person who currently has the book?\n",
    "    - Age Range?\n",
    "    - Home Library Branch?\n",
    "    - Patron Type?\n",
    "    - High, Medium, Low Book Diet?\n",
    "    "
   ]
  },
  {
   "cell_type": "code",
   "execution_count": 134,
   "metadata": {},
   "outputs": [
    {
     "data": {
      "text/plain": [
       "home_library_definition\n",
       "Main Library                          91293\n",
       "Mission                               21817\n",
       "Richmond                              19883\n",
       "Chinatown                             15499\n",
       "Excelsior                             14749\n",
       "Sunset                                13336\n",
       "Ortega                                13202\n",
       "West Portal                           12189\n",
       "Ingleside                              9278\n",
       "Merced                                 8945\n",
       "Marina                                 8864\n",
       "Glen Park                              8725\n",
       "Mission Bay                            8710\n",
       "Parkside                               8592\n",
       "Bernal Heights                         8486\n",
       "Western Addition                       8148\n",
       "Portola                                7720\n",
       "North Beach                            7511\n",
       "Eureka Valley/Harvey Milk Memorial     7462\n",
       "Noe Valley/Sally Brunn                 7460\n",
       "Presidio                               7179\n",
       "Park                                   7125\n",
       "Bayview/Linda Brooks-Burton            6586\n",
       "Anza                                   6390\n",
       "Potrero                                5937\n",
       "Visitacion Valley                      5798\n",
       "Golden Gate Valley                     3548\n",
       "Ocean View                             2407\n",
       "Children's Bookmobile                   716\n",
       "Library on Wheels                       696\n",
       "Branch Bookmobile (West Portal)         102\n",
       "Branch Bookmobile (Excelsior)            23\n",
       "Branch Bookmobile (Sunset)               21\n",
       "Branch Bookmobile (Marina)                7\n",
       "Name: total_checkouts, dtype: int64"
      ]
     },
     "execution_count": 134,
     "metadata": {},
     "output_type": "execute_result"
    }
   ],
   "source": [
    "# Main Library for the win. \n",
    "# Makes sense, the main library is where most library events go down and has the largest selection of books.\n",
    "df_comp.groupby('home_library_definition').total_checkouts.count().sort_values(ascending = False)"
   ]
  },
  {
   "cell_type": "code",
   "execution_count": 135,
   "metadata": {},
   "outputs": [
    {
     "data": {
      "text/plain": [
       "age_range\n",
       "75 years and over    374.584751\n",
       "65 to 74 years       358.621770\n",
       "60 to 64 years       330.902747\n",
       "55 to 59 years       294.386416\n",
       "10 to 19 years       269.530356\n",
       "45 to 54 years       230.746309\n",
       "0 to 9 years         152.696406\n",
       "20 to 24 years       138.054528\n",
       "35 to 44 years       134.567700\n",
       "25 to 34 years        64.871368\n",
       "Name: total_checkouts, dtype: float64"
      ]
     },
     "execution_count": 135,
     "metadata": {},
     "output_type": "execute_result"
    }
   ],
   "source": [
    "# Does the average number of checkouts vary by age range?\n",
    "df_comp.groupby('age_range').total_checkouts.mean().sort_values(ascending = False)"
   ]
  },
  {
   "cell_type": "code",
   "execution_count": 136,
   "metadata": {},
   "outputs": [],
   "source": [
    "# At first glance, it looks like, for the most part,the older the patron, the more checkouts.\n",
    "# but this could also be a function of how many years a patron has been active\n",
    "# Therefore, to get a real gauge of which age group really checks out the most books\n",
    "# I want to compute the average checkouts/years active \n",
    "# assuming the current year is 1 yr more than the maximum year noted in the dataset"
   ]
  },
  {
   "cell_type": "code",
   "execution_count": 137,
   "metadata": {},
   "outputs": [],
   "source": [
    "df_comp[\"yearly_checkouts\"] = np.round(df_comp.total_checkouts/(df_comp.circulation_active_year.max()+ 1  - df_comp.circulation_active_year),0)\n"
   ]
  },
  {
   "cell_type": "code",
   "execution_count": 138,
   "metadata": {},
   "outputs": [
    {
     "data": {
      "text/html": [
       "<div>\n",
       "<style scoped>\n",
       "    .dataframe tbody tr th:only-of-type {\n",
       "        vertical-align: middle;\n",
       "    }\n",
       "\n",
       "    .dataframe tbody tr th {\n",
       "        vertical-align: top;\n",
       "    }\n",
       "\n",
       "    .dataframe thead th {\n",
       "        text-align: right;\n",
       "    }\n",
       "</style>\n",
       "<table border=\"1\" class=\"dataframe\">\n",
       "  <thead>\n",
       "    <tr style=\"text-align: right;\">\n",
       "      <th></th>\n",
       "      <th>patron_type_definition</th>\n",
       "      <th>total_checkouts</th>\n",
       "      <th>total_renewals</th>\n",
       "      <th>age_range</th>\n",
       "      <th>home_library_definition</th>\n",
       "      <th>circulation_active_month</th>\n",
       "      <th>circulation_active_year</th>\n",
       "      <th>notice_preference_definition</th>\n",
       "      <th>provided_email_address</th>\n",
       "      <th>year_patron_registered</th>\n",
       "      <th>outside_of_county</th>\n",
       "      <th>yearly_checkouts</th>\n",
       "    </tr>\n",
       "  </thead>\n",
       "  <tbody>\n",
       "    <tr>\n",
       "      <th>0</th>\n",
       "      <td>SENIOR</td>\n",
       "      <td>28</td>\n",
       "      <td>13</td>\n",
       "      <td>65 to 74 years</td>\n",
       "      <td>Main Library</td>\n",
       "      <td>November</td>\n",
       "      <td>2012</td>\n",
       "      <td>email</td>\n",
       "      <td>True</td>\n",
       "      <td>2003</td>\n",
       "      <td>True</td>\n",
       "      <td>6.0</td>\n",
       "    </tr>\n",
       "    <tr>\n",
       "      <th>1</th>\n",
       "      <td>ADULT</td>\n",
       "      <td>21</td>\n",
       "      <td>10</td>\n",
       "      <td>55 to 59 years</td>\n",
       "      <td>Main Library</td>\n",
       "      <td>October</td>\n",
       "      <td>2015</td>\n",
       "      <td>email</td>\n",
       "      <td>True</td>\n",
       "      <td>2003</td>\n",
       "      <td>False</td>\n",
       "      <td>10.0</td>\n",
       "    </tr>\n",
       "    <tr>\n",
       "      <th>2</th>\n",
       "      <td>ADULT</td>\n",
       "      <td>275</td>\n",
       "      <td>559</td>\n",
       "      <td>60 to 64 years</td>\n",
       "      <td>Main Library</td>\n",
       "      <td>January</td>\n",
       "      <td>2015</td>\n",
       "      <td>email</td>\n",
       "      <td>True</td>\n",
       "      <td>2003</td>\n",
       "      <td>True</td>\n",
       "      <td>138.0</td>\n",
       "    </tr>\n",
       "    <tr>\n",
       "      <th>3</th>\n",
       "      <td>ADULT</td>\n",
       "      <td>73</td>\n",
       "      <td>38</td>\n",
       "      <td>45 to 54 years</td>\n",
       "      <td>Mission Bay</td>\n",
       "      <td>February</td>\n",
       "      <td>2016</td>\n",
       "      <td>email</td>\n",
       "      <td>True</td>\n",
       "      <td>2003</td>\n",
       "      <td>False</td>\n",
       "      <td>73.0</td>\n",
       "    </tr>\n",
       "    <tr>\n",
       "      <th>4</th>\n",
       "      <td>ADULT</td>\n",
       "      <td>182</td>\n",
       "      <td>90</td>\n",
       "      <td>45 to 54 years</td>\n",
       "      <td>Main Library</td>\n",
       "      <td>July</td>\n",
       "      <td>2016</td>\n",
       "      <td>email</td>\n",
       "      <td>True</td>\n",
       "      <td>2003</td>\n",
       "      <td>False</td>\n",
       "      <td>182.0</td>\n",
       "    </tr>\n",
       "  </tbody>\n",
       "</table>\n",
       "</div>"
      ],
      "text/plain": [
       "  patron_type_definition  total_checkouts  total_renewals       age_range  \\\n",
       "0                 SENIOR               28              13  65 to 74 years   \n",
       "1                  ADULT               21              10  55 to 59 years   \n",
       "2                  ADULT              275             559  60 to 64 years   \n",
       "3                  ADULT               73              38  45 to 54 years   \n",
       "4                  ADULT              182              90  45 to 54 years   \n",
       "\n",
       "  home_library_definition circulation_active_month  circulation_active_year  \\\n",
       "0            Main Library                 November                     2012   \n",
       "1            Main Library                  October                     2015   \n",
       "2            Main Library                  January                     2015   \n",
       "3             Mission Bay                 February                     2016   \n",
       "4            Main Library                     July                     2016   \n",
       "\n",
       "  notice_preference_definition  provided_email_address  \\\n",
       "0                        email                    True   \n",
       "1                        email                    True   \n",
       "2                        email                    True   \n",
       "3                        email                    True   \n",
       "4                        email                    True   \n",
       "\n",
       "   year_patron_registered  outside_of_county  yearly_checkouts  \n",
       "0                    2003               True               6.0  \n",
       "1                    2003              False              10.0  \n",
       "2                    2003               True             138.0  \n",
       "3                    2003              False              73.0  \n",
       "4                    2003              False             182.0  "
      ]
     },
     "execution_count": 138,
     "metadata": {},
     "output_type": "execute_result"
    }
   ],
   "source": [
    "df_comp.head()"
   ]
  },
  {
   "cell_type": "code",
   "execution_count": 139,
   "metadata": {},
   "outputs": [
    {
     "data": {
      "text/html": [
       "<div>\n",
       "<style scoped>\n",
       "    .dataframe tbody tr th:only-of-type {\n",
       "        vertical-align: middle;\n",
       "    }\n",
       "\n",
       "    .dataframe tbody tr th {\n",
       "        vertical-align: top;\n",
       "    }\n",
       "\n",
       "    .dataframe thead th {\n",
       "        text-align: right;\n",
       "    }\n",
       "</style>\n",
       "<table border=\"1\" class=\"dataframe\">\n",
       "  <thead>\n",
       "    <tr style=\"text-align: right;\">\n",
       "      <th></th>\n",
       "      <th>count</th>\n",
       "      <th>mean</th>\n",
       "      <th>std</th>\n",
       "      <th>min</th>\n",
       "      <th>25%</th>\n",
       "      <th>50%</th>\n",
       "      <th>75%</th>\n",
       "      <th>max</th>\n",
       "    </tr>\n",
       "    <tr>\n",
       "      <th>age_range</th>\n",
       "      <th></th>\n",
       "      <th></th>\n",
       "      <th></th>\n",
       "      <th></th>\n",
       "      <th></th>\n",
       "      <th></th>\n",
       "      <th></th>\n",
       "      <th></th>\n",
       "    </tr>\n",
       "  </thead>\n",
       "  <tbody>\n",
       "    <tr>\n",
       "      <th>0 to 9 years</th>\n",
       "      <td>33469.0</td>\n",
       "      <td>139.446443</td>\n",
       "      <td>321.521191</td>\n",
       "      <td>0.0</td>\n",
       "      <td>7.0</td>\n",
       "      <td>31.0</td>\n",
       "      <td>127.0</td>\n",
       "      <td>13362.0</td>\n",
       "    </tr>\n",
       "    <tr>\n",
       "      <th>10 to 19 years</th>\n",
       "      <td>51226.0</td>\n",
       "      <td>221.512318</td>\n",
       "      <td>464.898707</td>\n",
       "      <td>0.0</td>\n",
       "      <td>7.0</td>\n",
       "      <td>40.0</td>\n",
       "      <td>205.0</td>\n",
       "      <td>8489.0</td>\n",
       "    </tr>\n",
       "    <tr>\n",
       "      <th>20 to 24 years</th>\n",
       "      <td>23401.0</td>\n",
       "      <td>85.390539</td>\n",
       "      <td>290.695498</td>\n",
       "      <td>0.0</td>\n",
       "      <td>2.0</td>\n",
       "      <td>7.0</td>\n",
       "      <td>40.0</td>\n",
       "      <td>10809.0</td>\n",
       "    </tr>\n",
       "    <tr>\n",
       "      <th>25 to 34 years</th>\n",
       "      <td>70721.0</td>\n",
       "      <td>46.622036</td>\n",
       "      <td>196.658944</td>\n",
       "      <td>0.0</td>\n",
       "      <td>2.0</td>\n",
       "      <td>6.0</td>\n",
       "      <td>26.0</td>\n",
       "      <td>9990.0</td>\n",
       "    </tr>\n",
       "    <tr>\n",
       "      <th>35 to 44 years</th>\n",
       "      <td>55251.0</td>\n",
       "      <td>104.028723</td>\n",
       "      <td>338.281190</td>\n",
       "      <td>0.0</td>\n",
       "      <td>3.0</td>\n",
       "      <td>16.0</td>\n",
       "      <td>71.0</td>\n",
       "      <td>35907.0</td>\n",
       "    </tr>\n",
       "    <tr>\n",
       "      <th>45 to 54 years</th>\n",
       "      <td>43750.0</td>\n",
       "      <td>188.868251</td>\n",
       "      <td>514.355034</td>\n",
       "      <td>0.0</td>\n",
       "      <td>4.0</td>\n",
       "      <td>26.0</td>\n",
       "      <td>136.0</td>\n",
       "      <td>24093.0</td>\n",
       "    </tr>\n",
       "    <tr>\n",
       "      <th>55 to 59 years</th>\n",
       "      <td>17432.0</td>\n",
       "      <td>249.897602</td>\n",
       "      <td>634.329668</td>\n",
       "      <td>0.0</td>\n",
       "      <td>4.0</td>\n",
       "      <td>31.0</td>\n",
       "      <td>185.0</td>\n",
       "      <td>15598.0</td>\n",
       "    </tr>\n",
       "    <tr>\n",
       "      <th>60 to 64 years</th>\n",
       "      <td>16236.0</td>\n",
       "      <td>287.485526</td>\n",
       "      <td>726.680221</td>\n",
       "      <td>0.0</td>\n",
       "      <td>5.0</td>\n",
       "      <td>38.0</td>\n",
       "      <td>227.0</td>\n",
       "      <td>18064.0</td>\n",
       "    </tr>\n",
       "    <tr>\n",
       "      <th>65 to 74 years</th>\n",
       "      <td>24694.0</td>\n",
       "      <td>315.382401</td>\n",
       "      <td>758.105625</td>\n",
       "      <td>0.0</td>\n",
       "      <td>6.0</td>\n",
       "      <td>50.0</td>\n",
       "      <td>280.0</td>\n",
       "      <td>25223.0</td>\n",
       "    </tr>\n",
       "    <tr>\n",
       "      <th>75 years and over</th>\n",
       "      <td>12224.0</td>\n",
       "      <td>316.373527</td>\n",
       "      <td>669.186384</td>\n",
       "      <td>0.0</td>\n",
       "      <td>8.0</td>\n",
       "      <td>59.0</td>\n",
       "      <td>307.0</td>\n",
       "      <td>9373.0</td>\n",
       "    </tr>\n",
       "  </tbody>\n",
       "</table>\n",
       "</div>"
      ],
      "text/plain": [
       "                     count        mean         std  min  25%   50%    75%  \\\n",
       "age_range                                                                   \n",
       "0 to 9 years       33469.0  139.446443  321.521191  0.0  7.0  31.0  127.0   \n",
       "10 to 19 years     51226.0  221.512318  464.898707  0.0  7.0  40.0  205.0   \n",
       "20 to 24 years     23401.0   85.390539  290.695498  0.0  2.0   7.0   40.0   \n",
       "25 to 34 years     70721.0   46.622036  196.658944  0.0  2.0   6.0   26.0   \n",
       "35 to 44 years     55251.0  104.028723  338.281190  0.0  3.0  16.0   71.0   \n",
       "45 to 54 years     43750.0  188.868251  514.355034  0.0  4.0  26.0  136.0   \n",
       "55 to 59 years     17432.0  249.897602  634.329668  0.0  4.0  31.0  185.0   \n",
       "60 to 64 years     16236.0  287.485526  726.680221  0.0  5.0  38.0  227.0   \n",
       "65 to 74 years     24694.0  315.382401  758.105625  0.0  6.0  50.0  280.0   \n",
       "75 years and over  12224.0  316.373527  669.186384  0.0  8.0  59.0  307.0   \n",
       "\n",
       "                       max  \n",
       "age_range                   \n",
       "0 to 9 years       13362.0  \n",
       "10 to 19 years      8489.0  \n",
       "20 to 24 years     10809.0  \n",
       "25 to 34 years      9990.0  \n",
       "35 to 44 years     35907.0  \n",
       "45 to 54 years     24093.0  \n",
       "55 to 59 years     15598.0  \n",
       "60 to 64 years     18064.0  \n",
       "65 to 74 years     25223.0  \n",
       "75 years and over   9373.0  "
      ]
     },
     "execution_count": 139,
     "metadata": {},
     "output_type": "execute_result"
    }
   ],
   "source": [
    "df_comp.groupby('age_range').yearly_checkouts.describe()"
   ]
  },
  {
   "cell_type": "code",
   "execution_count": 140,
   "metadata": {},
   "outputs": [],
   "source": [
    "# make age range into a categorial data type so graphical representations can be order by age_range\n",
    "from pandas.api.types import CategoricalDtype\n",
    "age_cat = CategoricalDtype(categories=[\"0 to 9 years\", \"10 to 19 years\", \"20 to 24 years\",\n",
    "                                       \"25 to 34 years\", \"35 to 44 years\", \"45 to 54 years\",\n",
    "                                      \"55 to 59 years\", \"60 to 64 years\",\"65 to 74 years\", \"75 years and over\" ], ordered=True)\n",
    "df_comp.age_range = df_comp.age_range.astype(age_cat)"
   ]
  },
  {
   "cell_type": "code",
   "execution_count": 141,
   "metadata": {},
   "outputs": [
    {
     "data": {
      "image/png": "[encoded data removed]",
      "text/plain": [
       "<Figure size 432x288 with 1 Axes>"
      ]
     },
     "metadata": {
      "needs_background": "light"
     },
     "output_type": "display_data"
    }
   ],
   "source": [
    "df_comp.groupby('age_range').yearly_checkouts.mean().plot(kind ='bar');"
   ]
  },
  {
   "cell_type": "code",
   "execution_count": 142,
   "metadata": {},
   "outputs": [],
   "source": [
    "# For the above, there is a definite dip in library usage in starting from early 20s to mid 40s. \n",
    "# Then a steady climb from there. But still, the oldest members have the highest average checkouts per years active. \n",
    "# What about renewals? Because renewals are directly related to checkouts, this look relatively the same as the graph above. \n",
    "df_comp['yearly_renewals'] = np.round(df_comp.total_renewals/(df_comp.circulation_active_year.max()+ 1  - df_comp.circulation_active_year),0)"
   ]
  },
  {
   "cell_type": "code",
   "execution_count": 143,
   "metadata": {},
   "outputs": [
    {
     "data": {
      "image/png": "[encoded data removed]",
      "text/plain": [
       "<Figure size 432x288 with 1 Axes>"
      ]
     },
     "metadata": {
      "needs_background": "light"
     },
     "output_type": "display_data"
    }
   ],
   "source": [
    "df_comp.groupby('age_range').yearly_renewals.mean().plot(kind ='bar');"
   ]
  },
  {
   "cell_type": "code",
   "execution_count": 172,
   "metadata": {},
   "outputs": [
    {
     "data": {
      "image/png": "[encoded data removed]",
      "text/plain": [
       "<Figure size 432x288 with 1 Axes>"
      ]
     },
     "metadata": {
      "needs_background": "light"
     },
     "output_type": "display_data"
    }
   ],
   "source": [
    "# Interesting, when looking at renewals the highest group is not 60-64 years and the 75 and older is brought \n",
    "# down to fifth highest.\n",
    "# Let's take a look at renewals per checkouts. Because the data does not provide specifics about any particular\n",
    "# checkout, this again will have to be computed as an average=\n",
    "# total_renewals/ total_checkouts and I will make this more informative by mutliplying by days allowed per renewal =\n",
    "# 21 days per renewal. \n",
    "df_comp['renewal_days'] = np.round(df_comp.total_renewals/df_comp.total_checkouts,1)*21\n",
    "df_comp.groupby('age_range').renewal_days.mean().plot(kind ='bar');"
   ]
  },
  {
   "cell_type": "code",
   "execution_count": 173,
   "metadata": {},
   "outputs": [
    {
     "data": {
      "text/html": [
       "<div>\n",
       "<style scoped>\n",
       "    .dataframe tbody tr th:only-of-type {\n",
       "        vertical-align: middle;\n",
       "    }\n",
       "\n",
       "    .dataframe tbody tr th {\n",
       "        vertical-align: top;\n",
       "    }\n",
       "\n",
       "    .dataframe thead th {\n",
       "        text-align: right;\n",
       "    }\n",
       "</style>\n",
       "<table border=\"1\" class=\"dataframe\">\n",
       "  <thead>\n",
       "    <tr style=\"text-align: right;\">\n",
       "      <th></th>\n",
       "      <th>count</th>\n",
       "      <th>mean</th>\n",
       "      <th>std</th>\n",
       "      <th>min</th>\n",
       "      <th>25%</th>\n",
       "      <th>50%</th>\n",
       "      <th>75%</th>\n",
       "      <th>max</th>\n",
       "    </tr>\n",
       "    <tr>\n",
       "      <th>age_range</th>\n",
       "      <th></th>\n",
       "      <th></th>\n",
       "      <th></th>\n",
       "      <th></th>\n",
       "      <th></th>\n",
       "      <th></th>\n",
       "      <th></th>\n",
       "      <th></th>\n",
       "    </tr>\n",
       "  </thead>\n",
       "  <tbody>\n",
       "    <tr>\n",
       "      <th>0 to 9 years</th>\n",
       "      <td>33469.0</td>\n",
       "      <td>4.190275</td>\n",
       "      <td>8.471558</td>\n",
       "      <td>0.0</td>\n",
       "      <td>0.0</td>\n",
       "      <td>0.0</td>\n",
       "      <td>4.2</td>\n",
       "      <td>136.5</td>\n",
       "    </tr>\n",
       "    <tr>\n",
       "      <th>10 to 19 years</th>\n",
       "      <td>51226.0</td>\n",
       "      <td>4.061315</td>\n",
       "      <td>7.353860</td>\n",
       "      <td>0.0</td>\n",
       "      <td>0.0</td>\n",
       "      <td>2.1</td>\n",
       "      <td>4.2</td>\n",
       "      <td>126.0</td>\n",
       "    </tr>\n",
       "    <tr>\n",
       "      <th>20 to 24 years</th>\n",
       "      <td>23401.0</td>\n",
       "      <td>9.045139</td>\n",
       "      <td>14.740153</td>\n",
       "      <td>0.0</td>\n",
       "      <td>0.0</td>\n",
       "      <td>2.1</td>\n",
       "      <td>12.6</td>\n",
       "      <td>178.5</td>\n",
       "    </tr>\n",
       "    <tr>\n",
       "      <th>25 to 34 years</th>\n",
       "      <td>70721.0</td>\n",
       "      <td>13.223993</td>\n",
       "      <td>17.244269</td>\n",
       "      <td>0.0</td>\n",
       "      <td>0.0</td>\n",
       "      <td>6.3</td>\n",
       "      <td>21.0</td>\n",
       "      <td>147.0</td>\n",
       "    </tr>\n",
       "    <tr>\n",
       "      <th>35 to 44 years</th>\n",
       "      <td>55251.0</td>\n",
       "      <td>11.220563</td>\n",
       "      <td>14.546382</td>\n",
       "      <td>0.0</td>\n",
       "      <td>0.0</td>\n",
       "      <td>6.3</td>\n",
       "      <td>16.8</td>\n",
       "      <td>140.7</td>\n",
       "    </tr>\n",
       "    <tr>\n",
       "      <th>45 to 54 years</th>\n",
       "      <td>43750.0</td>\n",
       "      <td>9.277440</td>\n",
       "      <td>12.504323</td>\n",
       "      <td>0.0</td>\n",
       "      <td>0.0</td>\n",
       "      <td>4.2</td>\n",
       "      <td>12.6</td>\n",
       "      <td>189.0</td>\n",
       "    </tr>\n",
       "    <tr>\n",
       "      <th>55 to 59 years</th>\n",
       "      <td>17432.0</td>\n",
       "      <td>9.024989</td>\n",
       "      <td>12.173903</td>\n",
       "      <td>0.0</td>\n",
       "      <td>0.0</td>\n",
       "      <td>4.2</td>\n",
       "      <td>12.6</td>\n",
       "      <td>126.0</td>\n",
       "    </tr>\n",
       "    <tr>\n",
       "      <th>60 to 64 years</th>\n",
       "      <td>16236.0</td>\n",
       "      <td>8.748707</td>\n",
       "      <td>11.658422</td>\n",
       "      <td>0.0</td>\n",
       "      <td>0.0</td>\n",
       "      <td>4.2</td>\n",
       "      <td>12.6</td>\n",
       "      <td>126.0</td>\n",
       "    </tr>\n",
       "    <tr>\n",
       "      <th>65 to 74 years</th>\n",
       "      <td>24694.0</td>\n",
       "      <td>7.872236</td>\n",
       "      <td>11.028252</td>\n",
       "      <td>0.0</td>\n",
       "      <td>0.0</td>\n",
       "      <td>4.2</td>\n",
       "      <td>10.5</td>\n",
       "      <td>147.0</td>\n",
       "    </tr>\n",
       "    <tr>\n",
       "      <th>75 years and over</th>\n",
       "      <td>12224.0</td>\n",
       "      <td>6.355661</td>\n",
       "      <td>9.868855</td>\n",
       "      <td>0.0</td>\n",
       "      <td>0.0</td>\n",
       "      <td>2.1</td>\n",
       "      <td>8.4</td>\n",
       "      <td>126.0</td>\n",
       "    </tr>\n",
       "  </tbody>\n",
       "</table>\n",
       "</div>"
      ],
      "text/plain": [
       "                     count       mean        std  min  25%  50%   75%    max\n",
       "age_range                                                                   \n",
       "0 to 9 years       33469.0   4.190275   8.471558  0.0  0.0  0.0   4.2  136.5\n",
       "10 to 19 years     51226.0   4.061315   7.353860  0.0  0.0  2.1   4.2  126.0\n",
       "20 to 24 years     23401.0   9.045139  14.740153  0.0  0.0  2.1  12.6  178.5\n",
       "25 to 34 years     70721.0  13.223993  17.244269  0.0  0.0  6.3  21.0  147.0\n",
       "35 to 44 years     55251.0  11.220563  14.546382  0.0  0.0  6.3  16.8  140.7\n",
       "45 to 54 years     43750.0   9.277440  12.504323  0.0  0.0  4.2  12.6  189.0\n",
       "55 to 59 years     17432.0   9.024989  12.173903  0.0  0.0  4.2  12.6  126.0\n",
       "60 to 64 years     16236.0   8.748707  11.658422  0.0  0.0  4.2  12.6  126.0\n",
       "65 to 74 years     24694.0   7.872236  11.028252  0.0  0.0  4.2  10.5  147.0\n",
       "75 years and over  12224.0   6.355661   9.868855  0.0  0.0  2.1   8.4  126.0"
      ]
     },
     "execution_count": 173,
     "metadata": {},
     "output_type": "execute_result"
    }
   ],
   "source": [
    "df_comp.groupby('age_range').renewal_days.describe()"
   ]
  },
  {
   "cell_type": "code",
   "execution_count": 174,
   "metadata": {},
   "outputs": [
    {
     "data": {
      "image/png": "[encoded data removed]",
      "text/plain": [
       "<Figure size 432x288 with 1 Axes>"
      ]
     },
     "metadata": {
      "needs_background": "light"
     },
     "output_type": "display_data"
    }
   ],
   "source": [
    "#plot some histograms to get more of a feel for the spread\n",
    "df_comp[df_comp.age_range == \"25 to 34 years\"].renewal_days.plot(kind = \"hist\");"
   ]
  },
  {
   "cell_type": "code",
   "execution_count": 175,
   "metadata": {},
   "outputs": [
    {
     "data": {
      "image/png": "[encoded data removed]",
      "text/plain": [
       "<Figure size 432x288 with 1 Axes>"
      ]
     },
     "metadata": {
      "needs_background": "light"
     },
     "output_type": "display_data"
    }
   ],
   "source": [
    "df_comp[df_comp.age_range == \"35 to 44 years\"].renewal_days.plot(kind = \"hist\");"
   ]
  },
  {
   "cell_type": "code",
   "execution_count": 181,
   "metadata": {},
   "outputs": [
    {
     "data": {
      "image/png": "[encoded data removed]",
      "text/plain": [
       "<Figure size 432x288 with 1 Axes>"
      ]
     },
     "metadata": {
      "needs_background": "light"
     },
     "output_type": "display_data"
    }
   ],
   "source": [
    "# ok so now I know that if the book has been checked out by a 20 something, I might have to wait an average of 2 - 9 days \n",
    "# more than if any other age group has the group\n",
    "# how does home_library affect this?\n",
    "df_comp.groupby('home_library_definition').renewal_days.mean().sort_values().plot(kind = 'bar');"
   ]
  },
  {
   "cell_type": "code",
   "execution_count": 186,
   "metadata": {},
   "outputs": [
    {
     "data": {
      "text/plain": [
       "age_range\n",
       "0 to 9 years          6.157282\n",
       "10 to 19 years        4.684615\n",
       "20 to 24 years       10.612683\n",
       "25 to 34 years       14.234861\n",
       "35 to 44 years       12.390379\n",
       "45 to 54 years        9.834615\n",
       "55 to 59 years        7.266862\n",
       "60 to 64 years        7.257244\n",
       "65 to 74 years        6.896359\n",
       "75 years and over     5.223750\n",
       "Name: renewal_days, dtype: float64"
      ]
     },
     "execution_count": 186,
     "metadata": {},
     "output_type": "execute_result"
    }
   ],
   "source": [
    "df_comp[df_comp.home_library_definition == \"Mission Bay\"].groupby('age_range').renewal_days.mean()"
   ]
  },
  {
   "cell_type": "code",
   "execution_count": 190,
   "metadata": {},
   "outputs": [
    {
     "data": {
      "image/png": "[encoded data removed]",
      "text/plain": [
       "<Figure size 432x288 with 1 Axes>"
      ]
     },
     "metadata": {
      "needs_background": "light"
     },
     "output_type": "display_data"
    }
   ],
   "source": [
    "#lets take a look at patron type\n",
    "df_comp.groupby(\"patron_type_definition\").renewal_days.mean().sort_values().plot(kind = 'bar');\n"
   ]
  },
  {
   "cell_type": "code",
   "execution_count": 194,
   "metadata": {},
   "outputs": [
    {
     "data": {
      "image/png": "[encoded data removed]",
      "text/plain": [
       "<Figure size 432x288 with 2 Axes>"
      ]
     },
     "metadata": {
      "needs_background": "light"
     },
     "output_type": "display_data"
    }
   ],
   "source": [
    "sns.heatmap(df_comp[['renewal_days', 'total_checkouts', 'age_range', 'yearly_checkouts', 'yearly_renewals']].corr(), annot = True);"
   ]
  },
  {
   "cell_type": "markdown",
   "metadata": {},
   "source": [
    "## Model"
   ]
  },
  {
   "cell_type": "code",
   "execution_count": 220,
   "metadata": {},
   "outputs": [
    {
     "data": {
      "text/html": [
       "<div>\n",
       "<style scoped>\n",
       "    .dataframe tbody tr th:only-of-type {\n",
       "        vertical-align: middle;\n",
       "    }\n",
       "\n",
       "    .dataframe tbody tr th {\n",
       "        vertical-align: top;\n",
       "    }\n",
       "\n",
       "    .dataframe thead th {\n",
       "        text-align: right;\n",
       "    }\n",
       "</style>\n",
       "<table border=\"1\" class=\"dataframe\">\n",
       "  <thead>\n",
       "    <tr style=\"text-align: right;\">\n",
       "      <th></th>\n",
       "      <th>renewal_days</th>\n",
       "      <th>age_range_10 to 19 years</th>\n",
       "      <th>age_range_20 to 24 years</th>\n",
       "      <th>age_range_25 to 34 years</th>\n",
       "      <th>age_range_35 to 44 years</th>\n",
       "      <th>age_range_45 to 54 years</th>\n",
       "      <th>age_range_55 to 59 years</th>\n",
       "      <th>age_range_60 to 64 years</th>\n",
       "      <th>age_range_65 to 74 years</th>\n",
       "      <th>age_range_75 years and over</th>\n",
       "    </tr>\n",
       "  </thead>\n",
       "  <tbody>\n",
       "    <tr>\n",
       "      <th>1</th>\n",
       "      <td>10.5</td>\n",
       "      <td>0</td>\n",
       "      <td>0</td>\n",
       "      <td>0</td>\n",
       "      <td>0</td>\n",
       "      <td>0</td>\n",
       "      <td>1</td>\n",
       "      <td>0</td>\n",
       "      <td>0</td>\n",
       "      <td>0</td>\n",
       "    </tr>\n",
       "    <tr>\n",
       "      <th>2</th>\n",
       "      <td>42.0</td>\n",
       "      <td>0</td>\n",
       "      <td>0</td>\n",
       "      <td>0</td>\n",
       "      <td>0</td>\n",
       "      <td>0</td>\n",
       "      <td>0</td>\n",
       "      <td>1</td>\n",
       "      <td>0</td>\n",
       "      <td>0</td>\n",
       "    </tr>\n",
       "    <tr>\n",
       "      <th>3</th>\n",
       "      <td>10.5</td>\n",
       "      <td>0</td>\n",
       "      <td>0</td>\n",
       "      <td>0</td>\n",
       "      <td>0</td>\n",
       "      <td>1</td>\n",
       "      <td>0</td>\n",
       "      <td>0</td>\n",
       "      <td>0</td>\n",
       "      <td>0</td>\n",
       "    </tr>\n",
       "    <tr>\n",
       "      <th>4</th>\n",
       "      <td>10.5</td>\n",
       "      <td>0</td>\n",
       "      <td>0</td>\n",
       "      <td>0</td>\n",
       "      <td>0</td>\n",
       "      <td>1</td>\n",
       "      <td>0</td>\n",
       "      <td>0</td>\n",
       "      <td>0</td>\n",
       "      <td>0</td>\n",
       "    </tr>\n",
       "    <tr>\n",
       "      <th>5</th>\n",
       "      <td>0.0</td>\n",
       "      <td>0</td>\n",
       "      <td>0</td>\n",
       "      <td>0</td>\n",
       "      <td>0</td>\n",
       "      <td>0</td>\n",
       "      <td>0</td>\n",
       "      <td>0</td>\n",
       "      <td>1</td>\n",
       "      <td>0</td>\n",
       "    </tr>\n",
       "  </tbody>\n",
       "</table>\n",
       "</div>"
      ],
      "text/plain": [
       "   renewal_days  age_range_10 to 19 years  age_range_20 to 24 years  \\\n",
       "1          10.5                         0                         0   \n",
       "2          42.0                         0                         0   \n",
       "3          10.5                         0                         0   \n",
       "4          10.5                         0                         0   \n",
       "5           0.0                         0                         0   \n",
       "\n",
       "   age_range_25 to 34 years  age_range_35 to 44 years  \\\n",
       "1                         0                         0   \n",
       "2                         0                         0   \n",
       "3                         0                         0   \n",
       "4                         0                         0   \n",
       "5                         0                         0   \n",
       "\n",
       "   age_range_45 to 54 years  age_range_55 to 59 years  \\\n",
       "1                         0                         1   \n",
       "2                         0                         0   \n",
       "3                         1                         0   \n",
       "4                         1                         0   \n",
       "5                         0                         0   \n",
       "\n",
       "   age_range_60 to 64 years  age_range_65 to 74 years  \\\n",
       "1                         0                         0   \n",
       "2                         1                         0   \n",
       "3                         0                         0   \n",
       "4                         0                         0   \n",
       "5                         0                         1   \n",
       "\n",
       "   age_range_75 years and over  \n",
       "1                            0  \n",
       "2                            0  \n",
       "3                            0  \n",
       "4                            0  \n",
       "5                            0  "
      ]
     },
     "execution_count": 220,
     "metadata": {},
     "output_type": "execute_result"
    }
   ],
   "source": [
    "pd.get_dummies(df_comp[['renewal_days','age_range']].iloc[1:6,], columns = ['age_range'], dummy_na = False, drop_first= True)"
   ]
  },
  {
   "cell_type": "code",
   "execution_count": 219,
   "metadata": {},
   "outputs": [
    {
     "data": {
      "text/html": [
       "<div>\n",
       "<style scoped>\n",
       "    .dataframe tbody tr th:only-of-type {\n",
       "        vertical-align: middle;\n",
       "    }\n",
       "\n",
       "    .dataframe tbody tr th {\n",
       "        vertical-align: top;\n",
       "    }\n",
       "\n",
       "    .dataframe thead th {\n",
       "        text-align: right;\n",
       "    }\n",
       "</style>\n",
       "<table border=\"1\" class=\"dataframe\">\n",
       "  <thead>\n",
       "    <tr style=\"text-align: right;\">\n",
       "      <th></th>\n",
       "      <th>renewal_days</th>\n",
       "      <th>age_range</th>\n",
       "    </tr>\n",
       "  </thead>\n",
       "  <tbody>\n",
       "    <tr>\n",
       "      <th>1</th>\n",
       "      <td>10.5</td>\n",
       "      <td>55 to 59 years</td>\n",
       "    </tr>\n",
       "    <tr>\n",
       "      <th>2</th>\n",
       "      <td>42.0</td>\n",
       "      <td>60 to 64 years</td>\n",
       "    </tr>\n",
       "    <tr>\n",
       "      <th>3</th>\n",
       "      <td>10.5</td>\n",
       "      <td>45 to 54 years</td>\n",
       "    </tr>\n",
       "    <tr>\n",
       "      <th>4</th>\n",
       "      <td>10.5</td>\n",
       "      <td>45 to 54 years</td>\n",
       "    </tr>\n",
       "    <tr>\n",
       "      <th>5</th>\n",
       "      <td>0.0</td>\n",
       "      <td>65 to 74 years</td>\n",
       "    </tr>\n",
       "  </tbody>\n",
       "</table>\n",
       "</div>"
      ],
      "text/plain": [
       "   renewal_days       age_range\n",
       "1          10.5  55 to 59 years\n",
       "2          42.0  60 to 64 years\n",
       "3          10.5  45 to 54 years\n",
       "4          10.5  45 to 54 years\n",
       "5           0.0  65 to 74 years"
      ]
     },
     "execution_count": 219,
     "metadata": {},
     "output_type": "execute_result"
    }
   ],
   "source": []
  },
  {
   "cell_type": "code",
   "execution_count": 228,
   "metadata": {},
   "outputs": [],
   "source": [
    "def create_dummy_df(df, cat_cols, dummy_na):\n",
    "    '''\n",
    "    INPUT:\n",
    "    df - pandas dataframe with categorical variables you want to dummy\n",
    "    cat_cols - list of strings that are associated with names of the categorical columns\n",
    "    dummy_na - Bool holding whether you want to dummy NA vals of categorical columns or not\n",
    "    \n",
    "    OUTPUT:\n",
    "    df - a new dataframe that has the following characteristics:\n",
    "            1. contains all columns that were not specified as categorical\n",
    "            2. removes all the original columns in cat_cols\n",
    "            3. dummy columns for each of the categorical columns in cat_cols\n",
    "            4. if dummy_na is True - it also contains dummy columns for the NaN values\n",
    "            5. Use a prefix of the column name with an underscore (_) for separating \n",
    "    '''\n",
    "    \n",
    "    df = pd.get_dummies(df, columns = cat_cols, dummy_na = dummy_na, drop_first= True)\n",
    "\n",
    "    return df"
   ]
  },
  {
   "cell_type": "code",
   "execution_count": 229,
   "metadata": {},
   "outputs": [],
   "source": [
    "def clean_fit_linear_mod(df,response_col, dummy_na, test_size=.3, rand_state=42):\n",
    "    '''\n",
    "    INPUT:\n",
    "    df - a dataframe holding all the variables of interest\n",
    "    response_col - a string holding the name of the column \n",
    "    cat_cols - list of strings that are associated with names of the categorical columns\n",
    "    dummy_na - Bool holding whether you want to dummy NA vals of categorical columns or not\n",
    "    test_size - a float between [0,1] about what proportion of data should be in the test dataset\n",
    "    rand_state - an int that is provided as the random state for splitting the data into training and test \n",
    "    \n",
    "    OUTPUT:\n",
    "    test_score - float - r2 score on the test data\n",
    "    train_score - float - r2 score on the train data\n",
    "    lm_model - model object from sklearn\n",
    "    X_train, X_test, y_train, y_test - output from sklearn train test split used for optimal model\n",
    "    \n",
    "    Your function should:\n",
    "    1. Drop the rows with missing response values\n",
    "    2. Drop columns with NaN for all the values\n",
    "    3. Use create_dummy_df to dummy categorical columns\n",
    "    4. Fill the mean of the column for any missing values \n",
    "    5. Split your data into an X matrix and a response vector y\n",
    "    6. Create training and test sets of data\n",
    "    7. Instantiate a LinearRegression model with normalized data\n",
    "    8. Fit your model to the training data\n",
    "    9. Predict the response for the training data and the test data\n",
    "    10. Obtain an rsquared value for both the training and test data\n",
    "    '''\n",
    "   # df_drop = df.dropna(subset = [response_col], axis = 0)\n",
    "   # df_drop_na = df_drop.loc[:,((df_drop.isna().sum()/df_drop.shape[0]) == 1)== False]\n",
    "    cat_df = df.select_dtypes(include = ['object', 'category'])\n",
    "    cat_cols = cat_df.columns\n",
    "\n",
    "    df_dummy = create_dummy_df(df, cat_cols, dummy_na = dummy_na)\n",
    "\n",
    "    #fill_mean = lambda col: col.fillna(col.mean())\n",
    "\n",
    "    #df_dummy_fill = df_dummy.apply(fill_mean, axis = 0)\n",
    "\n",
    "    X = df_dummy.drop(response_col, axis = 1)\n",
    "    y = df_dummy[response_col]\n",
    "\n",
    "    X_train,X_test,y_train,y_test = train_test_split(X,y,test_size = test_size, random_state = rand_state)\n",
    "\n",
    "    lm_model = LinearRegression(normalize = True)\n",
    "    lm_model.fit(X_train,y_train)\n",
    "    y_preds = lm_model.predict(X_test)\n",
    "    test_score = r2_score(y_test, y_preds)\n",
    "    y_preds_train = lm_model.predict(X_train)\n",
    "    train_score = r2_score(y_train, y_preds_train)\n",
    "\n",
    "    return test_score, train_score, lm_model, X_train, X_test, y_train, y_test\n"
   ]
  },
  {
   "cell_type": "code",
   "execution_count": 248,
   "metadata": {},
   "outputs": [],
   "source": [
    "df_model1 = (df_comp[['patron_type_definition','home_library_definition','age_range','yearly_checkouts','renewal_days']]){d_comp}"
   ]
  },
  {
   "cell_type": "code",
   "execution_count": 249,
   "metadata": {},
   "outputs": [],
   "source": [
    "test_score_1, train_score_1, lm_model_1, X_train_1, X_test_1, y_train_1, y_test_1 = clean_fit_linear_mod(df_model1,'renewal_days', dummy_na=False, test_size=.3, rand_state=42);"
   ]
  },
  {
   "cell_type": "code",
   "execution_count": 250,
   "metadata": {},
   "outputs": [
    {
     "data": {
      "text/plain": [
       "(0.07320591052240488, 0.07227671417630877)"
      ]
     },
     "execution_count": 250,
     "metadata": {},
     "output_type": "execute_result"
    }
   ],
   "source": [
    "test_score_1,train_score_1"
   ]
  }
 ],
 "metadata": {
  "kernelspec": {
   "display_name": "Python 3",
   "language": "python",
   "name": "python3"
  },
  "language_info": {
   "codemirror_mode": {
    "name": "ipython",
    "version": 3
   },
   "file_extension": ".py",
   "mimetype": "text/x-python",
   "name": "python",
   "nbconvert_exporter": "python",
   "pygments_lexer": "ipython3",
   "version": "3.7.6"
  }
 },
 "nbformat": 4,
 "nbformat_minor": 2
}
